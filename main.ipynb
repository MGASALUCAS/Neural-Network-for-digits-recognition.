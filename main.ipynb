{
 "cells": [
  {
   "cell_type": "code",
   "execution_count": 2,
   "metadata": {},
   "outputs": [],
   "source": [
    "import numpy as np\n",
    "import PIL\n",
    "import matplotlib.pyplot as plt"
   ]
  },
  {
   "cell_type": "code",
   "execution_count": 3,
   "metadata": {},
   "outputs": [],
   "source": [
    "def initialize_parameters_deep(layer_dims):\n",
    "    np.random.seed(1)\n",
    "    parameters = {}\n",
    "    L = len(layer_dims)\n",
    "    \n",
    "    for l in range(1,L):\n",
    "        parameters['W' + str(l)] = np.random.randn(layer_dims[l], layer_dims[l-1]) * np.sqrt(2/layer_dims[l-1])\n",
    "        parameters[\"b\"+str(l)]=np.zeros((layer_dims[l],1))\n",
    "    return parameters "
   ]
  },
  {
   "cell_type": "code",
   "execution_count": 4,
   "metadata": {},
   "outputs": [],
   "source": [
    "def softmax(x):\n",
    "    ans = np.exp(x)/np.sum(np.exp(x),axis=0)\n",
    "    return ans\n",
    "  \n",
    "def softmax_prime(x):\n",
    "    ans = softmax(x)*(1-softmax(x))\n",
    "    return ans\n",
    "  \n",
    "def relu(x):\n",
    "    x = np.maximum(0,x)\n",
    "    return x\n",
    "\n",
    "def relu_prime(x):\n",
    "    x[x<=0] = 0\n",
    "    x[x>0] = 1\n",
    "    return x"
   ]
  },
  {
   "cell_type": "code",
   "execution_count": 5,
   "metadata": {},
   "outputs": [],
   "source": [
    "def linear_forward(A,W,b):\n",
    "    Z=W.dot(A)+b\n",
    "    cache = (A, W ,b)\n",
    "    return Z,cache"
   ]
  },
  {
   "cell_type": "code",
   "execution_count": 6,
   "metadata": {},
   "outputs": [],
   "source": [
    "def deep_layer(A,W,b,activation):\n",
    "    Z,linear_cache = linear_forward(A,W,b)\n",
    "    if activation == 'softmax':\n",
    "        A = softmax(Z)\n",
    "        activation_cache = Z\n",
    "    elif activation == 'relu':\n",
    "        A = relu(Z)\n",
    "        activation_cache = Z\n",
    "    cache = (linear_cache,activation_cache)\n",
    "    return A,cache"
   ]
  },
  {
   "cell_type": "code",
   "execution_count": 7,
   "metadata": {},
   "outputs": [],
   "source": [
    "def forward_pass(input_X,parameters):\n",
    "    caches=[]\n",
    "    depth = int(len(parameters)/2) # number of layers in the neural network\n",
    "    A = input_X\n",
    "    for l in range(1,depth):\n",
    "        A_prev = A\n",
    "        A,cache = deep_layer(A_prev,parameters['W'+str(l)],parameters['b'+str(l)],'relu')\n",
    "        caches.append(cache)\n",
    "    A_last,cache = deep_layer(A,parameters['W'+str(depth)],parameters['b'+str(depth)],'softmax')\n",
    "    caches.append(cache)\n",
    "    return A_last,caches"
   ]
  },
  {
   "cell_type": "code",
   "execution_count": 8,
   "metadata": {},
   "outputs": [],
   "source": [
    "def compute_cost(AL,Y):  \n",
    "    Y= np.reshape(Y,(Y.shape[0],Y.shape[1]))\n",
    "    m = Y.shape[1]\n",
    "    cost =(-1/m)*(np.multiply(Y,np.log(AL))) #categorical_cross_entropy\n",
    "    cost = np.squeeze(cost)\n",
    "    return cost"
   ]
  },
  {
   "cell_type": "code",
   "execution_count": 9,
   "metadata": {},
   "outputs": [],
   "source": [
    "def linear_backward(dZ,cache):\n",
    "    A_prev , W, b = cache\n",
    "    m = A_prev.shape[1]\n",
    "    dW = (1/m)*np.dot(dZ,A_prev.T)\n",
    "    db = (1/m)*np.sum(dZ,axis=1,keepdims=True)\n",
    "    dA_prev = np.dot(W.T,dZ)\n",
    "    return dA_prev, dW, db"
   ]
  },
  {
   "cell_type": "code",
   "execution_count": 10,
   "metadata": {},
   "outputs": [],
   "source": [
    "def backward_activation(dA, cache, activation):\n",
    "    linear_cache,activation_cache = cache\n",
    "    if activation == \"relu\":\n",
    "        dZ = dA*relu_prime(activation_cache)\n",
    "        dA_prev, dW,db = linear_backward(dZ,linear_cache)\n",
    "    elif activation == \"softmax\":\n",
    "        dZ = dA\n",
    "        dA_prev, dW,db = linear_backward(dZ,linear_cache)\n",
    "    return dA_prev, dW, db"
   ]
  },
  {
   "cell_type": "code",
   "execution_count": 11,
   "metadata": {},
   "outputs": [],
   "source": [
    "def backward_pass(A_last,Y,caches):\n",
    "    grads={}\n",
    "    L = len(caches)\n",
    "    m = A_last.shape[1]\n",
    "    Y = Y.reshape(A_last.shape)\n",
    "    dA_last_Z = A_last-Y\n",
    "    current_cache = caches[L-1]\n",
    "    grads[\"dA\"+str(L-1)],grads[\"dW\"+str(L)],grads[\"db\"+str(L)] = backward_activation(dA_last_Z,current_cache,activation='softmax')\n",
    "    for l in reversed(range(L-1)):\n",
    "        current_cache = caches[l]\n",
    "        dA_prev_temp, dW_temp, db_temp = backward_activation(grads['dA'+str(l+1)],current_cache,activation=\"relu\")\n",
    "        grads[\"dA\"+str(l)] = dA_prev_temp\n",
    "        grads[\"dW\"+str(l+1)] = dW_temp\n",
    "        grads[\"db\"+str(l+1)]=db_temp\n",
    "    return grads "
   ]
  },
  {
   "cell_type": "code",
   "execution_count": 12,
   "metadata": {},
   "outputs": [],
   "source": [
    "def update_parameters(parameters, grads, learning_rate):\n",
    "    depth = len(parameters) // 2\n",
    "    for l in range(depth):\n",
    "        parameters[\"W\"+str(l+1)] = parameters[\"W\"+ str(l+1)]-learning_rate*grads['dW'+str(l+1)]\n",
    "        parameters[\"b\"+str(l+1)] = parameters[\"b\" + str(l+1)]-learning_rate*grads['db'+str(l+1)]\n",
    "    return parameters"
   ]
  },
  {
   "cell_type": "code",
   "execution_count": 13,
   "metadata": {},
   "outputs": [],
   "source": [
    "def mini_batch_gradient_descent(X,Y,layer_dims=[3,2,1],mini_batch_size=8,epochs=100, learning_rate=0.0075):\n",
    "  ############## Creating Mini Batches ##########################\n",
    "    np.random.seed(1)\n",
    "    m = X.shape[1]\n",
    "    mini_batches = []\n",
    "    \n",
    "    #shuffling the data\n",
    "    permutation = list(np.random.permutation(X.shape[1]))\n",
    "    X_shuffled = X[:, permutation]\n",
    "    Y_shuffled = Y[:, permutation]\n",
    "    num_of_complete_batches = m // mini_batch_size\n",
    "    for i in range(num_of_complete_batches):\n",
    "        mini_batch_X = X_shuffled[:,i*mini_batch_size:(i+1)*mini_batch_size]\n",
    "        mini_batch_Y = Y_shuffled[:,i*mini_batch_size:(i+1)*mini_batch_size]\n",
    "        mini_batch = (mini_batch_X,mini_batch_Y)\n",
    "        mini_batches.append(mini_batch)\n",
    "        \n",
    "    #if there is incomplete batch\n",
    "    if m % mini_batch_size != 0:\n",
    "       \n",
    "        mini_batch_X=X_shuffled[:,num_of_complete_batches*mini_batch_size:num_of_complete_batches*mini_batch_size + (m - mini_batch_size*num_of_complete_batches)]\n",
    "        mini_batch_Y=Y_shuffled[:,num_of_complete_batches*mini_batch_size:num_of_complete_batches*mini_batch_size + (m - mini_batch_size*num_of_complete_batches)]\n",
    "        mini_batch = (mini_batch_X,mini_batch_Y)\n",
    "        mini_batches.append(mini_batch)\n",
    "    \n",
    "    ############## Training Model Using Mini Batches ##########################\n",
    "    #parameters_initialize\n",
    "    costs=[]\n",
    "    parameters = initialize_parameters_deep(layer_dims)\n",
    "    for j in range(epochs):\n",
    "        for mini_batch in mini_batches:\n",
    "            x_batch,y_batch=mini_batch\n",
    "            A_Last,caches = forward_pass(x_batch,parameters)\n",
    "            cost = np.sum(compute_cost(A_Last, y_batch))/A_Last.shape[0]\n",
    "            grads = backward_pass(A_Last, y_batch , caches)\n",
    "            parameters = update_parameters(parameters, grads, learning_rate)\n",
    "        if j%2 == 0:\n",
    "            print(f'Iteration {j} : {cost}')\n",
    "            costs.append(cost)\n",
    "    return parameters,costs"
   ]
  },
  {
   "cell_type": "code",
   "execution_count": 21,
   "metadata": {},
   "outputs": [],
   "source": [
    "from scipy.io import loadmat\n",
    "mnist = loadmat(\"mnist-original.mat\")\n",
    "mnist_data = mnist[\"data\"].T\n",
    "mnist_label = mnist[\"label\"][0]"
   ]
  },
  {
   "cell_type": "code",
   "execution_count": null,
   "metadata": {},
   "outputs": [],
   "source": [
    "from sklearn.datasets import fetch_openml\n",
    "X, y = fetch_openml('mnist-original.mat', version=1, return_X_y=True)"
   ]
  },
  {
   "cell_type": "code",
   "execution_count": 25,
   "metadata": {},
   "outputs": [
    {
     "name": "stdout",
     "output_type": "stream",
     "text": [
      "Shape of X: (70000, 784)\n",
      "Shape of y: (70000,)\n"
     ]
    }
   ],
   "source": [
    "import numpy as np\n",
    "from scipy.io import loadmat\n",
    "\n",
    "# Load the .mat file\n",
    "data = loadmat('mnist-original.mat')\n",
    "\n",
    "# Extract features (X) and labels (y)\n",
    "X = data['data'].T\n",
    "y = data['label'][0]\n",
    "\n",
    "# Optionally, you can convert the labels to integers\n",
    "y = y.astype(int)\n",
    "\n",
    "# Check the shapes of X and y\n",
    "print(\"Shape of X:\", X.shape)\n",
    "print(\"Shape of y:\", y.shape)\n"
   ]
  },
  {
   "cell_type": "code",
   "execution_count": 26,
   "metadata": {},
   "outputs": [],
   "source": [
    "def one_hot(y, depth):\n",
    "    one_hot_list = np.array([],dtype=int)\n",
    "    for i in range(depth):\n",
    "        temp =np.zeros((1,depth),dtype=int)\n",
    "        temp[0][i]=1\n",
    "        one_hot_list =np.append(one_hot_list,temp)\n",
    "    one_hot=np.reshape(one_hot_list,(depth,depth))\n",
    "    \n",
    "    y = one_hot[y].T\n",
    "    return y"
   ]
  },
  {
   "cell_type": "code",
   "execution_count": 27,
   "metadata": {},
   "outputs": [],
   "source": [
    "train_x = X[0:60000]/255.0 #normalizing the data\n",
    "train_x=train_x.T\n",
    "train_y = y[0:60000]\n",
    "train_y = train_y.astype(int)\n",
    "train_y= np.reshape(train_y,(1,60000))\n",
    "\n",
    "test_x = X[60000:X.shape[0]]/255.0 #normalizing the data\n",
    "test_x=test_x.T\n",
    "test_y = y[60000:y.shape[0]]\n",
    "test_y = test_y.astype('int')"
   ]
  },
  {
   "cell_type": "code",
   "execution_count": 28,
   "metadata": {},
   "outputs": [],
   "source": [
    "train_y = one_hot(train_y,10)"
   ]
  },
  {
   "cell_type": "code",
   "execution_count": 29,
   "metadata": {},
   "outputs": [
    {
     "name": "stdout",
     "output_type": "stream",
     "text": [
      "Iteration 0 : 0.04399704373619028\n",
      "Iteration 2 : 0.028438278421380976\n",
      "Iteration 4 : 0.019168482415652954\n",
      "Iteration 6 : 0.013614197033708739\n",
      "Iteration 8 : 0.011685472871079072\n",
      "Iteration 10 : 0.010247428843990167\n",
      "Iteration 12 : 0.009574596289092104\n",
      "Iteration 14 : 0.00914833597685019\n",
      "Iteration 16 : 0.008264474930857666\n",
      "Iteration 18 : 0.007056686801925988\n",
      "Iteration 20 : 0.006094696582698697\n",
      "Iteration 22 : 0.0050091313987601065\n",
      "Iteration 24 : 0.004270277287590725\n",
      "Iteration 26 : 0.00344347180756928\n",
      "Iteration 28 : 0.0029793538598300077\n",
      "Iteration 30 : 0.0024694055505456837\n",
      "Iteration 32 : 0.0022320286426794653\n",
      "Iteration 34 : 0.0018933667139062575\n",
      "Iteration 36 : 0.0016463311212377336\n",
      "Iteration 38 : 0.001360467954631416\n"
     ]
    }
   ],
   "source": [
    "parameters,costs=mini_batch_gradient_descent(train_x, train_y,layer_dims=[784,128,64,32,10],mini_batch_size=64,epochs=40)\n"
   ]
  },
  {
   "cell_type": "code",
   "execution_count": 30,
   "metadata": {},
   "outputs": [
    {
     "data": {
      "image/png": "[encoded data removed]",
      "text/plain": [
       "<Figure size 640x480 with 1 Axes>"
      ]
     },
     "metadata": {},
     "output_type": "display_data"
    }
   ],
   "source": [
    "plt.plot(costs)\n",
    "plt.ylabel('Cost')\n",
    "plt.xlabel('Iterations per 2 epochs')\n",
    "plt.show()"
   ]
  },
  {
   "cell_type": "code",
   "execution_count": 31,
   "metadata": {},
   "outputs": [
    {
     "name": "stdout",
     "output_type": "stream",
     "text": [
      "Test Accuracy: 0.971\n"
     ]
    }
   ],
   "source": [
    "correct = 0\n",
    "incorrect=[]\n",
    "for i in range(test_y.shape[0]):\n",
    "    last,_=forward_pass(np.reshape(test_x[:,i],(784,1)),parameters)\n",
    "    if np.argmax(last) == test_y[i]:\n",
    "        correct +=1\n",
    "    else:\n",
    "        incorrect.append(i)\n",
    "accuracy = correct/test_y.shape[0]\n",
    "print(\"Test Accuracy:\",accuracy)"
   ]
  },
  {
   "cell_type": "code",
   "execution_count": 32,
   "metadata": {},
   "outputs": [],
   "source": [
    "# Code to convert the image having white background to black\n",
    "import PIL.ImageOps \n",
    "def invert_image(test_img):\n",
    "    I = np.asarray(test_img)\n",
    "    zero_pixels=0\n",
    "    for i in range(I.shape[0]):\n",
    "        for j in range(I.shape[1]):\n",
    "            if I[i,i] == 0:\n",
    "                zero_pixels+=1\n",
    "    non_zero_pixels = 784-zero_pixels\n",
    "    if non_zero_pixels > zero_pixels:\n",
    "        inverted_image = PIL.ImageOps.invert(test_img)\n",
    "        return inverted_image\n",
    "    else:\n",
    "        return test_img "
   ]
  },
  {
   "cell_type": "code",
   "execution_count": 55,
   "metadata": {},
   "outputs": [
    {
     "name": "stdout",
     "output_type": "stream",
     "text": [
      "Prediction:  6\n",
      "Input Image: \n"
     ]
    },
    {
     "ename": "ValueError",
     "evalue": "Could not save to JPEG for display",
     "output_type": "error",
     "traceback": [
      "\u001b[1;31m---------------------------------------------------------------------------\u001b[0m",
      "\u001b[1;31mKeyError\u001b[0m                                  Traceback (most recent call last)",
      "File \u001b[1;32md:\\Projects\\A Quick Quiz\\neural networks\\.venv\\lib\\site-packages\\PIL\\JpegImagePlugin.py:639\u001b[0m, in \u001b[0;36m_save\u001b[1;34m(im, fp, filename)\u001b[0m\n\u001b[0;32m    638\u001b[0m \u001b[39mtry\u001b[39;00m:\n\u001b[1;32m--> 639\u001b[0m     rawmode \u001b[39m=\u001b[39m RAWMODE[im\u001b[39m.\u001b[39;49mmode]\n\u001b[0;32m    640\u001b[0m \u001b[39mexcept\u001b[39;00m \u001b[39mKeyError\u001b[39;00m \u001b[39mas\u001b[39;00m e:\n",
      "\u001b[1;31mKeyError\u001b[0m: 'RGBA'",
      "\nThe above exception was the direct cause of the following exception:\n",
      "\u001b[1;31mOSError\u001b[0m                                   Traceback (most recent call last)",
      "File \u001b[1;32md:\\Projects\\A Quick Quiz\\neural networks\\.venv\\lib\\site-packages\\PIL\\Image.py:643\u001b[0m, in \u001b[0;36mImage._repr_image\u001b[1;34m(self, image_format, **kwargs)\u001b[0m\n\u001b[0;32m    642\u001b[0m \u001b[39mtry\u001b[39;00m:\n\u001b[1;32m--> 643\u001b[0m     \u001b[39mself\u001b[39m\u001b[39m.\u001b[39msave(b, image_format, \u001b[39m*\u001b[39m\u001b[39m*\u001b[39mkwargs)\n\u001b[0;32m    644\u001b[0m \u001b[39mexcept\u001b[39;00m \u001b[39mException\u001b[39;00m \u001b[39mas\u001b[39;00m e:\n",
      "File \u001b[1;32md:\\Projects\\A Quick Quiz\\neural networks\\.venv\\lib\\site-packages\\PIL\\Image.py:2413\u001b[0m, in \u001b[0;36mImage.save\u001b[1;34m(self, fp, format, **params)\u001b[0m\n\u001b[0;32m   2412\u001b[0m \u001b[39mtry\u001b[39;00m:\n\u001b[1;32m-> 2413\u001b[0m     save_handler(\u001b[39mself\u001b[39;49m, fp, filename)\n\u001b[0;32m   2414\u001b[0m \u001b[39mexcept\u001b[39;00m \u001b[39mException\u001b[39;00m:\n",
      "File \u001b[1;32md:\\Projects\\A Quick Quiz\\neural networks\\.venv\\lib\\site-packages\\PIL\\JpegImagePlugin.py:642\u001b[0m, in \u001b[0;36m_save\u001b[1;34m(im, fp, filename)\u001b[0m\n\u001b[0;32m    641\u001b[0m     msg \u001b[39m=\u001b[39m \u001b[39mf\u001b[39m\u001b[39m\"\u001b[39m\u001b[39mcannot write mode \u001b[39m\u001b[39m{\u001b[39;00mim\u001b[39m.\u001b[39mmode\u001b[39m}\u001b[39;00m\u001b[39m as JPEG\u001b[39m\u001b[39m\"\u001b[39m\n\u001b[1;32m--> 642\u001b[0m     \u001b[39mraise\u001b[39;00m \u001b[39mOSError\u001b[39;00m(msg) \u001b[39mfrom\u001b[39;00m \u001b[39me\u001b[39;00m\n\u001b[0;32m    644\u001b[0m info \u001b[39m=\u001b[39m im\u001b[39m.\u001b[39mencoderinfo\n",
      "\u001b[1;31mOSError\u001b[0m: cannot write mode RGBA as JPEG",
      "\nThe above exception was the direct cause of the following exception:\n",
      "\u001b[1;31mValueError\u001b[0m                                Traceback (most recent call last)",
      "File \u001b[1;32md:\\Projects\\A Quick Quiz\\neural networks\\.venv\\lib\\site-packages\\IPython\\core\\formatters.py:344\u001b[0m, in \u001b[0;36mBaseFormatter.__call__\u001b[1;34m(self, obj)\u001b[0m\n\u001b[0;32m    342\u001b[0m     method \u001b[39m=\u001b[39m get_real_method(obj, \u001b[39mself\u001b[39m\u001b[39m.\u001b[39mprint_method)\n\u001b[0;32m    343\u001b[0m     \u001b[39mif\u001b[39;00m method \u001b[39mis\u001b[39;00m \u001b[39mnot\u001b[39;00m \u001b[39mNone\u001b[39;00m:\n\u001b[1;32m--> 344\u001b[0m         \u001b[39mreturn\u001b[39;00m method()\n\u001b[0;32m    345\u001b[0m     \u001b[39mreturn\u001b[39;00m \u001b[39mNone\u001b[39;00m\n\u001b[0;32m    346\u001b[0m \u001b[39melse\u001b[39;00m:\n",
      "File \u001b[1;32md:\\Projects\\A Quick Quiz\\neural networks\\.venv\\lib\\site-packages\\PIL\\Image.py:661\u001b[0m, in \u001b[0;36mImage._repr_jpeg_\u001b[1;34m(self)\u001b[0m\n\u001b[0;32m    656\u001b[0m \u001b[39mdef\u001b[39;00m \u001b[39m_repr_jpeg_\u001b[39m(\u001b[39mself\u001b[39m):\n\u001b[0;32m    657\u001b[0m \u001b[39m    \u001b[39m\u001b[39m\"\"\"iPython display hook support for JPEG format.\u001b[39;00m\n\u001b[0;32m    658\u001b[0m \n\u001b[0;32m    659\u001b[0m \u001b[39m    :returns: JPEG version of the image as bytes\u001b[39;00m\n\u001b[0;32m    660\u001b[0m \u001b[39m    \"\"\"\u001b[39;00m\n\u001b[1;32m--> 661\u001b[0m     \u001b[39mreturn\u001b[39;00m \u001b[39mself\u001b[39;49m\u001b[39m.\u001b[39;49m_repr_image(\u001b[39m\"\u001b[39;49m\u001b[39mJPEG\u001b[39;49m\u001b[39m\"\u001b[39;49m)\n",
      "File \u001b[1;32md:\\Projects\\A Quick Quiz\\neural networks\\.venv\\lib\\site-packages\\PIL\\Image.py:646\u001b[0m, in \u001b[0;36mImage._repr_image\u001b[1;34m(self, image_format, **kwargs)\u001b[0m\n\u001b[0;32m    644\u001b[0m \u001b[39mexcept\u001b[39;00m \u001b[39mException\u001b[39;00m \u001b[39mas\u001b[39;00m e:\n\u001b[0;32m    645\u001b[0m     msg \u001b[39m=\u001b[39m \u001b[39mf\u001b[39m\u001b[39m\"\u001b[39m\u001b[39mCould not save to \u001b[39m\u001b[39m{\u001b[39;00mimage_format\u001b[39m}\u001b[39;00m\u001b[39m for display\u001b[39m\u001b[39m\"\u001b[39m\n\u001b[1;32m--> 646\u001b[0m     \u001b[39mraise\u001b[39;00m \u001b[39mValueError\u001b[39;00m(msg) \u001b[39mfrom\u001b[39;00m \u001b[39me\u001b[39;00m\n\u001b[0;32m    647\u001b[0m \u001b[39mreturn\u001b[39;00m b\u001b[39m.\u001b[39mgetvalue()\n",
      "\u001b[1;31mValueError\u001b[0m: Could not save to JPEG for display"
     ]
    },
    {
     "data": {
      "image/png": "[encoded data removed]",
      "text/plain": [
       "<PIL.Image.Image image mode=RGBA size=128x128>"
      ]
     },
     "execution_count": 55,
     "metadata": {},
     "output_type": "execute_result"
    }
   ],
   "source": [
    "# Try with your own image\n",
    "from PIL import Image\n",
    "img = Image.open('test_img.jpg') #path of the image\n",
    "img_converted = img.convert('L')\n",
    "img_resized = img_converted.resize((28,28))\n",
    "img_array=np.asarray(img_resized)/255.0\n",
    "\n",
    "prediction,_=forward_pass(np.reshape(img_array,(784,1)),parameters)\n",
    "predicted_num=np.argmax(prediction)\n",
    "print(\"Prediction: \",predicted_num)\n",
    "print(\"Input Image: \")\n",
    "img.resize((128,128))"
   ]
  }
 ],
 "metadata": {
  "kernelspec": {
   "display_name": "Python 3",
   "language": "python",
   "name": "python3"
  },
  "language_info": {
   "codemirror_mode": {
    "name": "ipython",
    "version": 3
   },
   "file_extension": ".py",
   "mimetype": "text/x-python",
   "name": "python",
   "nbconvert_exporter": "python",
   "pygments_lexer": "ipython3",
   "version": "3.9.10"
  },
  "orig_nbformat": 4
 },
 "nbformat": 4,
 "nbformat_minor": 2
}
